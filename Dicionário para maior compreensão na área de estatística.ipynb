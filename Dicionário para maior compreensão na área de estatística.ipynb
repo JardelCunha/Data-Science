{
 "cells": [
  {
   "cell_type": "markdown",
   "metadata": {},
   "source": [
    "**A**"
   ]
  },
  {
   "cell_type": "markdown",
   "metadata": {},
   "source": [
    "**Amostra**"
   ]
  },
  {
   "cell_type": "markdown",
   "metadata": {},
   "source": [
    "É qualquer subconjunto da população."
   ]
  },
  {
   "cell_type": "markdown",
   "metadata": {},
   "source": [
    "**I**"
   ]
  },
  {
   "cell_type": "markdown",
   "metadata": {},
   "source": [
    "**Incidência:**"
   ]
  },
  {
   "cell_type": "markdown",
   "metadata": {},
   "source": [
    "Incidência é a taxa de manifestação de uma determinada doença.\n",
    "Mensura -> O surgimento da doença."
   ]
  },
  {
   "cell_type": "markdown",
   "metadata": {},
   "source": [
    "**P**"
   ]
  },
  {
   "cell_type": "markdown",
   "metadata": {},
   "source": [
    "**Prevalência**"
   ]
  },
  {
   "cell_type": "markdown",
   "metadata": {},
   "source": [
    "Termo utilizado em epidemiologia.\n",
    "A prevalência é o número de casos de uma doença em uma população, durante um período específico de tempo.\n",
    "Mensura -> Mede a proporção da população que já tem a doença."
   ]
  },
  {
   "cell_type": "markdown",
   "metadata": {},
   "source": [
    "**População**"
   ]
  },
  {
   "cell_type": "markdown",
   "metadata": {},
   "source": [
    "É o conjunto de todos os elementos ou resultados sobre investigação"
   ]
  },
  {
   "cell_type": "markdown",
   "metadata": {},
   "source": [
    "**S**"
   ]
  },
  {
   "cell_type": "markdown",
   "metadata": {},
   "source": [
    "**Sumarização:**\n",
    "\n",
    "Ato de reunir, de maneira resumida, os principais indicativos, assuntos e informações de forma a facilitar o que se pretender ler, estudar, entender, etc"
   ]
  }
 ],
 "metadata": {
  "kernelspec": {
   "display_name": "Python 3",
   "language": "python",
   "name": "python3"
  },
  "language_info": {
   "codemirror_mode": {
    "name": "ipython",
    "version": 3
   },
   "file_extension": ".py",
   "mimetype": "text/x-python",
   "name": "python",
   "nbconvert_exporter": "python",
   "pygments_lexer": "ipython3",
   "version": "3.6.8"
  }
 },
 "nbformat": 4,
 "nbformat_minor": 2
}
