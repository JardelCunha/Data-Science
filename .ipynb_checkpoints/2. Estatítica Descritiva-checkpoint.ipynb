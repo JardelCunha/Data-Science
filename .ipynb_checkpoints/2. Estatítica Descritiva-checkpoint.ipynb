{
 "cells": [
  {
   "cell_type": "markdown",
   "metadata": {},
   "source": [
    "# Resumo rápido"
   ]
  },
  {
   "cell_type": "markdown",
   "metadata": {},
   "source": [
    "Estatística é a ciência que se preocupa com:\n",
    "    \n",
    "    *Organização e descrição -> Estatística Descritiva\n",
    "    *Análises e intepretações -> Estatística indutiva ou Estatística inferencial\n",
    "    "
   ]
  },
  {
   "cell_type": "markdown",
   "metadata": {},
   "source": [
    "# O que é estatística descritiva?"
   ]
  },
  {
   "cell_type": "markdown",
   "metadata": {},
   "source": [
    "São métodos destinados a resumir a informação contida nos dados, destacando os aspectos mais marcantes.\n",
    "\n",
    "Exemplo:"
   ]
  },
  {
   "cell_type": "code",
   "execution_count": 2,
   "metadata": {},
   "outputs": [
    {
     "data": {
      "text/html": [
       "<div>\n",
       "<style>\n",
       "    .dataframe thead tr:only-child th {\n",
       "        text-align: right;\n",
       "    }\n",
       "\n",
       "    .dataframe thead th {\n",
       "        text-align: left;\n",
       "    }\n",
       "\n",
       "    .dataframe tbody tr th {\n",
       "        vertical-align: top;\n",
       "    }\n",
       "</style>\n",
       "<table border=\"1\" class=\"dataframe\">\n",
       "  <thead>\n",
       "    <tr style=\"text-align: right;\">\n",
       "      <th></th>\n",
       "      <th>Categorias</th>\n",
       "      <th>Frequências Absolutas</th>\n",
       "      <th>Frequências relativas</th>\n",
       "    </tr>\n",
       "  </thead>\n",
       "  <tbody>\n",
       "    <tr>\n",
       "      <th>0</th>\n",
       "      <td>Pessoa Física</td>\n",
       "      <td>580</td>\n",
       "      <td>58%</td>\n",
       "    </tr>\n",
       "    <tr>\n",
       "      <th>1</th>\n",
       "      <td>Van Gogh</td>\n",
       "      <td>210</td>\n",
       "      <td>21%</td>\n",
       "    </tr>\n",
       "    <tr>\n",
       "      <th>2</th>\n",
       "      <td>Select</td>\n",
       "      <td>108</td>\n",
       "      <td>10,8%</td>\n",
       "    </tr>\n",
       "    <tr>\n",
       "      <th>3</th>\n",
       "      <td>Private Banking</td>\n",
       "      <td>92</td>\n",
       "      <td>9,2%</td>\n",
       "    </tr>\n",
       "  </tbody>\n",
       "</table>\n",
       "</div>"
      ],
      "text/plain": [
       "        Categorias  Frequências Absolutas Frequências relativas\n",
       "0    Pessoa Física                    580                   58%\n",
       "1         Van Gogh                    210                   21%\n",
       "2           Select                    108                 10,8%\n",
       "3  Private Banking                     92                  9,2%"
      ]
     },
     "execution_count": 2,
     "metadata": {},
     "output_type": "execute_result"
    }
   ],
   "source": [
    "import pandas as pd \n",
    "# Leitura de dado de um arquivo 'santander.csv' \n",
    "# Delimitadores de controle, linhas, nomes de coluna com read_csv \n",
    "data = pd.read_csv(\"santander.csv\") \n",
    "# Visualizar as primeiras 5 linhas dos dados carregados \n",
    "data.head()"
   ]
  },
  {
   "cell_type": "markdown",
   "metadata": {},
   "source": [
    "# Características Numéricas de uma distribuição de dados"
   ]
  },
  {
   "cell_type": "markdown",
   "metadata": {},
   "source": [
    "Em alguns momentos é necessário resumir certas características das distribuícões de dados através de certas quantidades. Essas quantidade são definidas são denominadas como ***Medidas***, pois quantificam alguns aspectos de nosso interesse."
   ]
  },
  {
   "cell_type": "markdown",
   "metadata": {},
   "source": [
    "# O que é Medida?"
   ]
  },
  {
   "cell_type": "markdown",
   "metadata": {},
   "source": [
    "* Elas buscam sumarizar as informções disponíveis sobre o comportamento de uma variável. O foco é caracterizar o conjunto de dados através de medidas que resumam a informação nele contida.\n",
    "\n",
    "\n",
    "* Ainda, podemos citar **Medidas de Posição** e **Medidas de dispersão**, tais medidas servem para localizar uma distribuição e caracterizar sua variabilidade, respectivamente."
   ]
  },
  {
   "cell_type": "markdown",
   "metadata": {},
   "source": [
    "Então vamos falar sobre **Medidas de Posição ou de Tendência Central**"
   ]
  },
  {
   "cell_type": "markdown",
   "metadata": {},
   "source": [
    "O principal foco é localizar a distribuição dos dados brutos (ou frequências) sobre o eixo de variação da variável\n",
    "em questão.\n",
    "\n",
    "Os tipos mais comuns de medidas de tendência central são: média aritmética(simplesmente média ou valor médio), a mediana, a moda, a média geo métrica e a média quadrática. Assim vamos descrever cada um deles e a sua importância."
   ]
  },
  {
   "cell_type": "markdown",
   "metadata": {},
   "source": [
    "### Média Geométrica ou média amostral"
   ]
  },
  {
   "cell_type": "markdown",
   "metadata": {},
   "source": [
    "São médidas ao redor das quais as observações tendem a se agrupar. Também podemos descrever através da \n",
    "formula matemática:"
   ]
  },
  {
   "cell_type": "markdown",
   "metadata": {},
   "source": [
    "$$\\bar{X} =\\frac{X_1 + X_2 + X_3 + ... X_n} {n}$$\n",
    "\n",
    "                                                            ou\n",
    "\n",
    "$$\\bar{X} =\\frac{\\sum_{i=1}^{n}{x^i}} {n}$$\n",
    "\n",
    "\n",
    "                                      "
   ]
  },
  {
   "cell_type": "markdown",
   "metadata": {},
   "source": [
    "Exemplo: \n",
    "\n",
    "Valores do ford Ka 2017 - 1.0/ 4 portas:\n",
    "\n",
    "\n",
    "$$\\bar{X} =\\frac{31.999 + 38.500 + 35.500 + 34.999 + 39.940} {5} = 36.188$$"
   ]
  },
  {
   "cell_type": "code",
   "execution_count": 15,
   "metadata": {},
   "outputs": [
    {
     "name": "stdout",
     "output_type": "stream",
     "text": [
      "Média: preco    36.1876\n",
      "dtype: float64\n"
     ]
    }
   ],
   "source": [
    "df = pd.read_csv(\"ka.csv\") \n",
    "print(\"Média:\", df.mean())"
   ]
  },
  {
   "cell_type": "code",
   "execution_count": null,
   "metadata": {
    "collapsed": true
   },
   "outputs": [],
   "source": []
  },
  {
   "cell_type": "code",
   "execution_count": null,
   "metadata": {
    "collapsed": true
   },
   "outputs": [],
   "source": [
    "No c"
   ]
  }
 ],
 "metadata": {
  "kernelspec": {
   "display_name": "Python 3",
   "language": "python",
   "name": "python3"
  },
  "language_info": {
   "codemirror_mode": {
    "name": "ipython",
    "version": 3
   },
   "file_extension": ".py",
   "mimetype": "text/x-python",
   "name": "python",
   "nbconvert_exporter": "python",
   "pygments_lexer": "ipython3",
   "version": "3.6.6"
  }
 },
 "nbformat": 4,
 "nbformat_minor": 2
}
