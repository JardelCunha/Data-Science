{
 "cells": [
  {
   "cell_type": "markdown",
   "metadata": {},
   "source": [
    "# Resumo rápido"
   ]
  },
  {
   "cell_type": "markdown",
   "metadata": {},
   "source": [
    "Estatística é a ciência que se preocupa com:\n",
    "    \n",
    "    *Organização e descrição -> Estatística Descritiva\n",
    "    *Análises e intepretações -> Estatística indutiva ou Estatística inferencial\n",
    "    "
   ]
  },
  {
   "cell_type": "markdown",
   "metadata": {},
   "source": [
    "# O que é estatística descritiva?"
   ]
  },
  {
   "cell_type": "markdown",
   "metadata": {},
   "source": [
    "São métodos destinados a resumir a informação contida nos dados, destacando os aspectos mais marcantes.\n",
    "\n",
    "Exemplo:"
   ]
  },
  {
   "cell_type": "code",
   "execution_count": 2,
   "metadata": {},
   "outputs": [
    {
     "data": {
      "text/html": [
       "<div>\n",
       "<style>\n",
       "    .dataframe thead tr:only-child th {\n",
       "        text-align: right;\n",
       "    }\n",
       "\n",
       "    .dataframe thead th {\n",
       "        text-align: left;\n",
       "    }\n",
       "\n",
       "    .dataframe tbody tr th {\n",
       "        vertical-align: top;\n",
       "    }\n",
       "</style>\n",
       "<table border=\"1\" class=\"dataframe\">\n",
       "  <thead>\n",
       "    <tr style=\"text-align: right;\">\n",
       "      <th></th>\n",
       "      <th>Categorias</th>\n",
       "      <th>Frequências Absolutas</th>\n",
       "      <th>Frequências relativas</th>\n",
       "    </tr>\n",
       "  </thead>\n",
       "  <tbody>\n",
       "    <tr>\n",
       "      <th>0</th>\n",
       "      <td>Pessoa Física</td>\n",
       "      <td>580</td>\n",
       "      <td>58%</td>\n",
       "    </tr>\n",
       "    <tr>\n",
       "      <th>1</th>\n",
       "      <td>Van Gogh</td>\n",
       "      <td>210</td>\n",
       "      <td>21%</td>\n",
       "    </tr>\n",
       "    <tr>\n",
       "      <th>2</th>\n",
       "      <td>Select</td>\n",
       "      <td>108</td>\n",
       "      <td>10,8%</td>\n",
       "    </tr>\n",
       "    <tr>\n",
       "      <th>3</th>\n",
       "      <td>Private Banking</td>\n",
       "      <td>92</td>\n",
       "      <td>9,2%</td>\n",
       "    </tr>\n",
       "  </tbody>\n",
       "</table>\n",
       "</div>"
      ],
      "text/plain": [
       "        Categorias  Frequências Absolutas Frequências relativas\n",
       "0    Pessoa Física                    580                   58%\n",
       "1         Van Gogh                    210                   21%\n",
       "2           Select                    108                 10,8%\n",
       "3  Private Banking                     92                  9,2%"
      ]
     },
     "execution_count": 2,
     "metadata": {},
     "output_type": "execute_result"
    }
   ],
   "source": [
    "import pandas as pd \n",
    "# Leitura de dado de um arquivo 'santander.csv' \n",
    "# Delimitadores de controle, linhas, nomes de coluna com read_csv \n",
    "data = pd.read_csv(\"santander.csv\") \n",
    "# Visualizar as primeiras 5 linhas dos dados carregados \n",
    "data.head()"
   ]
  },
  {
   "cell_type": "markdown",
   "metadata": {},
   "source": [
    "# Características Numéricas de uma distribuição de dados"
   ]
  },
  {
   "cell_type": "markdown",
   "metadata": {},
   "source": [
    "Em alguns momentos é necessário resumir certas características das distribuícões de dados através de certas quantidades. Essas quantidade são definidas são denominadas como ***Medidas***, pois quantificam alguns aspectos de nosso interesse."
   ]
  },
  {
   "cell_type": "markdown",
   "metadata": {},
   "source": [
    "# O que é Medida?"
   ]
  },
  {
   "cell_type": "markdown",
   "metadata": {},
   "source": [
    "* Elas buscam sumarizar as informções disponíveis sobre o comportamento de uma variável. O foco é caracterizar o conjunto de dados através de medidas que resumam a informação nele contida.\n",
    "\n",
    "\n",
    "* Ainda, podemos citar **Medidas de Posição** e **Medidas de dispersão**, tais medidas servem para localizar uma distribuição e caracterizar sua variabilidade, respectivamente."
   ]
  },
  {
   "cell_type": "markdown",
   "metadata": {},
   "source": [
    "Então vamos falar sobre **Medidas de Posição ou de Tendência Central**"
   ]
  },
  {
   "cell_type": "markdown",
   "metadata": {},
   "source": [
    "O principal foco é localizar a distribuição dos dados brutos (ou frequências) sobre o eixo de variação da variável\n",
    "em questão.\n",
    "\n",
    "Os tipos mais comuns de medidas de tendência central são: média aritmética(simplesmente média ou valor médio), a mediana, a moda, a média geo métrica e a média quadrática. Assim vamos descrever cada um deles e a sua importância."
   ]
  },
  {
   "cell_type": "markdown",
   "metadata": {},
   "source": [
    "### Média Geométrica ou média amostral"
   ]
  },
  {
   "cell_type": "markdown",
   "metadata": {},
   "source": [
    "São médidas ao redor das quais as observações tendem a se agrupar. Também podemos descrever através da \n",
    "formula matemática:"
   ]
  },
  {
   "cell_type": "markdown",
   "metadata": {},
   "source": [
    "$$\\bar{X} =\\frac{X_1 + X_2 + X_3 + ... X_n} {n}$$\n",
    "\n",
    "                                                            ou\n",
    "\n",
    "$$\\bar{X} =\\frac{\\sum_{i=1}^{n}{x^i}} {n}$$\n",
    "\n",
    "\n",
    "                                      "
   ]
  },
  {
   "cell_type": "markdown",
   "metadata": {},
   "source": [
    "Exemplo: \n",
    "\n",
    "Valores do ford Ka 2017 - 1.0/ 4 portas:\n",
    "\n",
    "\n",
    "$$\\bar{X} =\\frac{31.999 + 38.500 + 35.500 + 34.999 + 39.940} {5} = 36.188$$"
   ]
  },
  {
   "cell_type": "code",
   "execution_count": 18,
   "metadata": {},
   "outputs": [
    {
     "name": "stdout",
     "output_type": "stream",
     "text": [
      "Média: preco    36.1876\n",
      "dtype: float64\n"
     ]
    }
   ],
   "source": [
    "df = pd.read_csv(\"ka.csv\") \n",
    "print(\"Média:\", df.mean())"
   ]
  },
  {
   "cell_type": "markdown",
   "metadata": {},
   "source": [
    "No caso acima temos que o n=5, pois temos cinco valores {31.999, 38.500, 35.500, 34.999, 39.940} e os valores que\n",
    "\n",
    "compõe $$\\bar{X}:{X_1, X_2, X_3, X_4, X_5}$$\n",
    "\n",
    "sendo que esses valores são dividos pelo valor de n e como resultado obtemos o valor aproximadamente de R$ 36.188"
   ]
  },
  {
   "cell_type": "markdown",
   "metadata": {},
   "source": [
    "## Média Ponderada"
   ]
  },
  {
   "cell_type": "markdown",
   "metadata": {},
   "source": [
    " Quando os valores de $${X_1, X_2,..., X_i}$$\n",
    " \n",
    "têm associado a eles certos fatores de peso, ou ponderação, $${w_1, w_2,..., w_i}$$\n",
    "que os disntinguem em importância relativa dentro de um conjunto de valores. Ou seja, é calculada multiplicando cada  valor do conjunto de dados pelo seu peso. Como é demonstrado no exemplo abaixo:"
   ]
  },
  {
   "cell_type": "markdown",
   "metadata": {},
   "source": [
    "$$\\bar{X} =\\frac{w_1X_1 + w_2X_2 + w_3X_3 + ... X_n} {n}$$\n",
    "\n",
    "                                                            ou\n",
    "\n",
    "$$\\bar{X} =\\frac{\\sum_{i=1}^{K}{w_i}{X_i}} {\\sum_{i=1}^{K}{w_i}}$$\n"
   ]
  },
  {
   "cell_type": "markdown",
   "metadata": {},
   "source": [
    "***Exemplo:***\n",
    "\n",
    "Em um curso universitário queremos distinguir as atividades presenciais e as atividades online, podemos atribuir pesos, ou seja, imaginem uma aluna que tenha tirado uma nota 9.5 em atividades online e 5.3 em atividades presenciais, como poderíamos diferenciar as duas atividades, poderíamos realizar a média, no entanto seu professor pode considerar que você tenha colado, sendo assim o mesmo poderá atribuir pesos distintos para essas atividades, então vejamos:\n",
    "\n",
    "Sendo assim ele acredita que para a atividade online ele deve atribuir um peso de 30 e para a atividade presencial 70, então para verificar a média final desse aluno temos realizar a média ponderada, então temos:\n",
    "\n",
    "\n",
    "$$\\bar{X} =\\frac{30*9.5 + 70*5.3} {100} = 6.56$$"
   ]
  },
  {
   "cell_type": "markdown",
   "metadata": {},
   "source": [
    "Nesse caso podemos observar que o valor de n é a soma dos pesos ou frequências, diferentemente da média que é a soma do número de elementos."
   ]
  },
  {
   "cell_type": "markdown",
   "metadata": {},
   "source": [
    "**Obs.:** O cálculo da média de histogramas é efetuado com a média pondera, porém no caso ao invés\n",
    "    de pesos temos as frequências"
   ]
  },
  {
   "cell_type": "markdown",
   "metadata": {},
   "source": [
    "## Mediana"
   ]
  },
  {
   "cell_type": "markdown",
   "metadata": {},
   "source": [
    "Se as observações são ordenadas da menor até a maior, metade dos valores é maior ou igual à mediana, \n",
    "enquanto a outra metade é menor ou igual a ela. \n"
   ]
  },
  {
   "cell_type": "markdown",
   "metadata": {},
   "source": [
    "No exemplo da média de valores do ford ka, temos os seguintes valores:\n",
    "    \n",
    "    [31.999, 38.500, 35.500, 34.999, 39.940]\n",
    "    \n",
    "    1- passo vamos ordená-los:\n",
    "        31.999, 34.999, 35.500 , 38.500, 39.940\n",
    "        \n",
    "        \n",
    "        Assim temos que o número do meio que seria 35.500, então encontramos a mediana. \n",
    "        \n",
    "        Mas podemos pensar e se eu tivesse 6 valores ao invés de 5, como faço para encontrar a mediana:\n",
    "            \n",
    "            Exemplo:\n",
    "            \n",
    "            [31.999, 38.500, 35.500, 34.999, 39.940, 40.000]\n",
    "            \n",
    "            Dados ordenados: 31.999, 34.999, 35.500 , 38.500, 39.940, 40.000\n",
    "            \n",
    "            Para encontrarmos a mediana basta realizar a média dos dois numeros centrais, 35.500 + 38.500 e temos\n",
    "            a nossa mediana, que é 37.000"
   ]
  },
  {
   "cell_type": "code",
   "execution_count": 28,
   "metadata": {},
   "outputs": [
    {
     "data": {
      "text/plain": [
       "35.5"
      ]
     },
     "execution_count": 28,
     "metadata": {},
     "output_type": "execute_result"
    }
   ],
   "source": [
    "import statistics\n",
    "df = [31.999, 38.500, 35.500, 34.999, 39.940]\n",
    "data_points = [ x for x in df ]\n",
    "statistics.median(data_points)\n"
   ]
  },
  {
   "cell_type": "markdown",
   "metadata": {},
   "source": [
    "**Exercício**\n",
    "\n",
    "Ex. 1: seja X o volume expiratório forçado (VEF) em um segundo (em litros) para uma amostra de n = 13 adolescentes que sofrem de asma. \n",
    "x1 = 2,30 x2 = 2,15 x3 = 3,50 x4 = 2,60 x5 = 2,75 x6 = 2,82 x7 = 4,05 x8 = 2,25 x9 = 2,68 x10 = 3,00 x11 = 4,02 x12 = 2,85 x13 = 3,38 \n",
    "\n",
    "1o passo: ordenar as observações \n",
    "\n",
    "2o passo: a mediana é o “número do meio” \n"
   ]
  },
  {
   "cell_type": "markdown",
   "metadata": {},
   "source": [
    "## Moda"
   ]
  },
  {
   "cell_type": "markdown",
   "metadata": {},
   "source": [
    "o valor que surge com mais frequência se os dados são discretos, ou, o intervalo de classe com maior frequência \n",
    "se os dados são contínuos."
   ]
  },
  {
   "cell_type": "code",
   "execution_count": 46,
   "metadata": {},
   "outputs": [
    {
     "name": "stdout",
     "output_type": "stream",
     "text": [
      "78\n",
      "1.2\n"
     ]
    },
    {
     "data": {
      "text/plain": [
       "'dog'"
      ]
     },
     "execution_count": 46,
     "metadata": {},
     "output_type": "execute_result"
    }
   ],
   "source": [
    "df = [1, 2, 34, 34, 56, 78, 78, 78, 90]    \n",
    "data_points = [ x for x in df ]\n",
    "print(statistics.mode(data_points))\n",
    "\n",
    "df = [1.1, 1.2, 1.2, 1.4, 1.5, 1.6]\n",
    "data_points = [ x for x in df ]\n",
    "print(statistics.mode(data_points))\n",
    "\n",
    "\n",
    "statistics.mode([\"cat\", \"dog\", \"dog\", \"cat\", \"monkey\", \"monkey\", \"dog\"])\n"
   ]
  },
  {
   "cell_type": "markdown",
   "metadata": {},
   "source": [
    "## Pense na melhor solução:\n",
    "\n",
    "Ex.: idade, em anos completos, de oito indivíduos. \n",
    "16 18 15 22 24 23 15 62 \n",
    "\n",
    "\n",
    "Média = 24,38 anos \n",
    "\n",
    "\n",
    "Mediana = 20 anos \n",
    "\n",
    "\n",
    "Qual medida descreve melhor a variável idade ? \n"
   ]
  },
  {
   "cell_type": "markdown",
   "metadata": {},
   "source": [
    "## Medidas de dispersão (ou Variabilidade)"
   ]
  },
  {
   "cell_type": "markdown",
   "metadata": {
    "collapsed": true
   },
   "source": [
    "Vimos que o valor médio é uma medida importante, no entanto somente o valor médio não fornece muita informação sobre o conjunto de medidas\n",
    "\n",
    "A medidas de posição devem ser complementadas pelas medidas de dispersão. Sendo assim as medidas de dispersão servem para indicar **o quanto o dado se apresentam dispersos em torno da região central**. E assim caracterizam o grau de variação que existe em um conjunto de valores.\n",
    "\n",
    "Devemos entender que a medida de dispersão fornecem a significância e/ou confiabilidade do valor médio de um conjunto de valores.\n",
    "\n",
    "As medidas de dispersão que mais nos interessam são: amplitude, variância, desvio padrão, coeficiente de variância\n",
    "\n",
    "\n",
    "***Amplitude***\n",
    "\n",
    "A amplitude é a diferença entre o maior e o menor valor. \n",
    "Exemplo:\n",
    "    \n",
    "n = {1, 3, 5, 6, 7, 9}\n",
    "Valor da amplitude = 9-1  = 8\n",
    "Se quisermos calcular a amplitude de entrada de processos de um juiz.\n",
    "\n",
    "Vamos dizer que são contabilizados o número de processos deferidos por cada juiz por mês.\n",
    "\n",
    "Sendo assim temos:\n",
    "\n",
    "Juiz_A = [2, 3, 14, 5, 6, 7, 8, 3, 7, 9]\n",
    "Juiz_B = [1, 2, 1, 4, 6, 2, 3, 5, 2, 1]\n",
    "\n",
    "Ou seja, nos 10 primeros meses de 2018, temos o valor de processos deferidos por mês.\n",
    "\n",
    "O que podemos concluir por meio da amplitude ...\n",
    "\n",
    "Juiz_A = 14 - 1 = 13\n",
    "Juiz_B = 6 - 1 = 5 \n",
    "\n",
    "Podemos concluir que o Juiz_A apresenta uma amplitude de processos deferidos do que o Juiz_B, no entanto esse indicador se utiliza apenas de dois valores para descrever o comportamento. Esse tipo de analise podemos utilizar como uma proposta inicial em algum projeto, para que assim possamos em um futuro inferir as causas dessas diferenças de amplitude."
   ]
  },
  {
   "cell_type": "markdown",
   "metadata": {},
   "source": [
    "### Variância e desvio padrão"
   ]
  },
  {
   "cell_type": "markdown",
   "metadata": {},
   "source": [
    "Acredito que antes de vc prosseguir nesse topico, vamos discutir:\n",
    "    \n",
    "O que e uma populacao?\n",
    "\n",
    "O que e amostra?\n",
    "\n",
    "O que e espaco amostral?\n",
    "\n",
    "\n",
    "Esses conceitos sao essenciais para discutirmos qualquer outro topico daqui para frente ...."
   ]
  }
 ],
 "metadata": {
  "kernelspec": {
   "display_name": "Python 3",
   "language": "python",
   "name": "python3"
  },
  "language_info": {
   "codemirror_mode": {
    "name": "ipython",
    "version": 3
   },
   "file_extension": ".py",
   "mimetype": "text/x-python",
   "name": "python",
   "nbconvert_exporter": "python",
   "pygments_lexer": "ipython3",
   "version": "3.6.8"
  }
 },
 "nbformat": 4,
 "nbformat_minor": 2
}
