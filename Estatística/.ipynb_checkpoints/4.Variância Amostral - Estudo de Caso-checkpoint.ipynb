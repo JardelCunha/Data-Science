{
 "cells": [
  {
   "cell_type": "markdown",
   "metadata": {},
   "source": [
    "Vamos pensar na seguinte distribuiçao de dados"
   ]
  },
  {
   "cell_type": "markdown",
   "metadata": {},
   "source": [
    "A dor cronica e uma doenca que envolve\n",
    "diversos neurotransmissores entre eles\n",
    "existe um que se chama BDNF(Fator \n",
    "Neurotrofico Derivado do Cerebro),\n",
    "ele e responsavel pelo crescimento e \n",
    "desenvolvimento do neuronio, no entanto quando ocorre uma disfuncao do nervo ou uma lesao esse neurotransmissor e liberado em altas quantidades no sistema nervoso, causando aumento de sensibilidade ou utilizando termos mais tecnicos podemos descrever como hiperalgesia persistente. Outro neuro transmissor importante e o NGF (Fator de Crescimento Nervoso). Agora vamos ver \n",
    "dados reais de pacientes com dor cronica, que foram retirados de um dos meus projetos.\n",
    "\n",
    "Nesse projeto foi realizada a analise \n",
    "de PCR-RT de varios genes, no entanto vamos comparar os dados de BDNF e NGF com relacao ao grupo controle.\n",
    "\n",
    "\n",
    "                           "
   ]
  },
  {
   "cell_type": "code",
   "execution_count": 7,
   "metadata": {},
   "outputs": [
    {
     "data": {
      "text/html": [
       "<div>\n",
       "<style>\n",
       "    .dataframe thead tr:only-child th {\n",
       "        text-align: right;\n",
       "    }\n",
       "\n",
       "    .dataframe thead th {\n",
       "        text-align: left;\n",
       "    }\n",
       "\n",
       "    .dataframe tbody tr th {\n",
       "        vertical-align: top;\n",
       "    }\n",
       "</style>\n",
       "<table border=\"1\" class=\"dataframe\">\n",
       "  <thead>\n",
       "    <tr style=\"text-align: right;\">\n",
       "      <th></th>\n",
       "      <th>Control</th>\n",
       "      <th>BDNF</th>\n",
       "      <th>NGF</th>\n",
       "    </tr>\n",
       "  </thead>\n",
       "  <tbody>\n",
       "    <tr>\n",
       "      <th>0</th>\n",
       "      <td>0.354</td>\n",
       "      <td>4.810</td>\n",
       "      <td>3.251</td>\n",
       "    </tr>\n",
       "    <tr>\n",
       "      <th>1</th>\n",
       "      <td>0.245</td>\n",
       "      <td>4.247</td>\n",
       "      <td>0.501</td>\n",
       "    </tr>\n",
       "    <tr>\n",
       "      <th>2</th>\n",
       "      <td>0.209</td>\n",
       "      <td>4.855</td>\n",
       "      <td>1.591</td>\n",
       "    </tr>\n",
       "    <tr>\n",
       "      <th>3</th>\n",
       "      <td>0.257</td>\n",
       "      <td>4.974</td>\n",
       "      <td>0.528</td>\n",
       "    </tr>\n",
       "    <tr>\n",
       "      <th>4</th>\n",
       "      <td>0.258</td>\n",
       "      <td>5.332</td>\n",
       "      <td>2.949</td>\n",
       "    </tr>\n",
       "    <tr>\n",
       "      <th>5</th>\n",
       "      <td>0.386</td>\n",
       "      <td>4.644</td>\n",
       "      <td>20.687</td>\n",
       "    </tr>\n",
       "    <tr>\n",
       "      <th>6</th>\n",
       "      <td>0.244</td>\n",
       "      <td>5.365</td>\n",
       "      <td>0.830</td>\n",
       "    </tr>\n",
       "    <tr>\n",
       "      <th>7</th>\n",
       "      <td>0.272</td>\n",
       "      <td>4.540</td>\n",
       "      <td>0.880</td>\n",
       "    </tr>\n",
       "    <tr>\n",
       "      <th>8</th>\n",
       "      <td>0.396</td>\n",
       "      <td>3.608</td>\n",
       "      <td>1.906</td>\n",
       "    </tr>\n",
       "    <tr>\n",
       "      <th>9</th>\n",
       "      <td>0.215</td>\n",
       "      <td>4.119</td>\n",
       "      <td>13.865</td>\n",
       "    </tr>\n",
       "    <tr>\n",
       "      <th>10</th>\n",
       "      <td>0.217</td>\n",
       "      <td>4.315</td>\n",
       "      <td>3.819</td>\n",
       "    </tr>\n",
       "  </tbody>\n",
       "</table>\n",
       "</div>"
      ],
      "text/plain": [
       "    Control   BDNF     NGF\n",
       "0     0.354  4.810   3.251\n",
       "1     0.245  4.247   0.501\n",
       "2     0.209  4.855   1.591\n",
       "3     0.257  4.974   0.528\n",
       "4     0.258  5.332   2.949\n",
       "5     0.386  4.644  20.687\n",
       "6     0.244  5.365   0.830\n",
       "7     0.272  4.540   0.880\n",
       "8     0.396  3.608   1.906\n",
       "9     0.215  4.119  13.865\n",
       "10    0.217  4.315   3.819"
      ]
     },
     "execution_count": 7,
     "metadata": {},
     "output_type": "execute_result"
    }
   ],
   "source": [
    "import pandas as pd \n",
    "data = pd.read_csv(\"PCR-RT.csv\") \n",
    "data.head(11)"
   ]
  },
  {
   "cell_type": "code",
   "execution_count": 12,
   "metadata": {},
   "outputs": [
    {
     "data": {
      "text/plain": [
       "Control    0.277545\n",
       "BDNF       4.619000\n",
       "NGF        4.618818\n",
       "dtype: float64"
      ]
     },
     "execution_count": 12,
     "metadata": {},
     "output_type": "execute_result"
    }
   ],
   "source": [
    "data.mean()"
   ]
  },
  {
   "cell_type": "markdown",
   "metadata": {},
   "source": [
    "Quando observamos a media de ambos os neurotransmissores podemos observar que os valores das medias sao praticamente iguais, entao a primeira pergunta e eu posso inferir que so pela media que a dispensao de BDNF e igual a de NGF em pacientes com dor cronica apos lesao do nervo ciatico"
   ]
  },
  {
   "cell_type": "markdown",
   "metadata": {},
   "source": [
    "Para realizar esse tipo de afirmaçao\n",
    "temos que observar a distribuiçao de\n",
    "dados.\n"
   ]
  },
  {
   "cell_type": "code",
   "execution_count": 16,
   "metadata": {},
   "outputs": [
    {
     "data": {
      "text/html": [
       "<div>\n",
       "<style>\n",
       "    .dataframe thead tr:only-child th {\n",
       "        text-align: right;\n",
       "    }\n",
       "\n",
       "    .dataframe thead th {\n",
       "        text-align: left;\n",
       "    }\n",
       "\n",
       "    .dataframe tbody tr th {\n",
       "        vertical-align: top;\n",
       "    }\n",
       "</style>\n",
       "<table border=\"1\" class=\"dataframe\">\n",
       "  <thead>\n",
       "    <tr style=\"text-align: right;\">\n",
       "      <th></th>\n",
       "      <th>Control</th>\n",
       "      <th>BDNF</th>\n",
       "      <th>NGF</th>\n",
       "    </tr>\n",
       "  </thead>\n",
       "  <tbody>\n",
       "    <tr>\n",
       "      <th>0</th>\n",
       "      <td>0.354</td>\n",
       "      <td>4.810</td>\n",
       "      <td>3.251</td>\n",
       "    </tr>\n",
       "    <tr>\n",
       "      <th>1</th>\n",
       "      <td>0.245</td>\n",
       "      <td>4.247</td>\n",
       "      <td>0.501</td>\n",
       "    </tr>\n",
       "    <tr>\n",
       "      <th>2</th>\n",
       "      <td>0.209</td>\n",
       "      <td>4.855</td>\n",
       "      <td>1.591</td>\n",
       "    </tr>\n",
       "    <tr>\n",
       "      <th>3</th>\n",
       "      <td>0.257</td>\n",
       "      <td>4.974</td>\n",
       "      <td>0.528</td>\n",
       "    </tr>\n",
       "    <tr>\n",
       "      <th>4</th>\n",
       "      <td>0.258</td>\n",
       "      <td>5.332</td>\n",
       "      <td>2.949</td>\n",
       "    </tr>\n",
       "    <tr>\n",
       "      <th>5</th>\n",
       "      <td>0.386</td>\n",
       "      <td>4.644</td>\n",
       "      <td>20.687</td>\n",
       "    </tr>\n",
       "    <tr>\n",
       "      <th>6</th>\n",
       "      <td>0.244</td>\n",
       "      <td>5.365</td>\n",
       "      <td>0.830</td>\n",
       "    </tr>\n",
       "    <tr>\n",
       "      <th>7</th>\n",
       "      <td>0.272</td>\n",
       "      <td>4.540</td>\n",
       "      <td>0.880</td>\n",
       "    </tr>\n",
       "    <tr>\n",
       "      <th>8</th>\n",
       "      <td>0.396</td>\n",
       "      <td>3.608</td>\n",
       "      <td>1.906</td>\n",
       "    </tr>\n",
       "    <tr>\n",
       "      <th>9</th>\n",
       "      <td>0.215</td>\n",
       "      <td>4.119</td>\n",
       "      <td>13.865</td>\n",
       "    </tr>\n",
       "    <tr>\n",
       "      <th>10</th>\n",
       "      <td>0.217</td>\n",
       "      <td>4.315</td>\n",
       "      <td>3.819</td>\n",
       "    </tr>\n",
       "  </tbody>\n",
       "</table>\n",
       "</div>"
      ],
      "text/plain": [
       "    Control   BDNF     NGF\n",
       "0     0.354  4.810   3.251\n",
       "1     0.245  4.247   0.501\n",
       "2     0.209  4.855   1.591\n",
       "3     0.257  4.974   0.528\n",
       "4     0.258  5.332   2.949\n",
       "5     0.386  4.644  20.687\n",
       "6     0.244  5.365   0.830\n",
       "7     0.272  4.540   0.880\n",
       "8     0.396  3.608   1.906\n",
       "9     0.215  4.119  13.865\n",
       "10    0.217  4.315   3.819"
      ]
     },
     "execution_count": 16,
     "metadata": {},
     "output_type": "execute_result"
    }
   ],
   "source": [
    "data.head(11)\n"
   ]
  },
  {
   "cell_type": "code",
   "execution_count": 17,
   "metadata": {},
   "outputs": [
    {
     "name": "stdout",
     "output_type": "stream",
     "text": [
      "1.7570000000000001\n",
      "20.186\n"
     ]
    }
   ],
   "source": [
    "'''\n",
    "Vamos observar a amplitude:\n",
    "Como vimos anteriormente a amplitude \n",
    "e a subtracao do maior e menor numero. Olhando a tabela acima temos:\n",
    "'''\n",
    "\n",
    "BDNF = 5.365 - 3.608 \n",
    "print(BDNF) \n",
    "\n",
    "NGF = 20.687 - 0.501\n",
    "print(NGF)"
   ]
  },
  {
   "cell_type": "markdown",
   "metadata": {},
   "source": [
    "Apesar da amplitude nao medir \n",
    "todos os dados, podemos observar\n",
    "que a amplitude dos dados de NGF\n",
    "e 20X e a amplitude de BDNF e\n",
    "quase 2X, sendo assim temos indicios\n",
    "de que apesar das medias serem \n",
    "praticamente iguais, elas podem\n",
    "nao apresentar a mesma distribuicao\n",
    "e isso e extremamente importante\n",
    "para que possamos concluir a\n",
    "participacao desses genes no processo da doença."
   ]
  },
  {
   "cell_type": "markdown",
   "metadata": {},
   "source": [
    "Como a amplitude nao me descreve\n",
    "o comportamento de todos os dados\n",
    "entao , vamos olhar a variancia:"
   ]
  },
  {
   "cell_type": "markdown",
   "metadata": {},
   "source": [
    "A variancia populacional\n",
    "e representada pelo sigma, mas \n",
    "aqui vou colocar s, onde temos \n",
    "que subtrair cada valor da media\n",
    "e elevar ao quadrado o seu \n",
    "resultado, somar e dividir pelo\n",
    "numero de pacientes ou elementos.\n",
    "Sendo assim, temos:"
   ]
  },
  {
   "cell_type": "markdown",
   "metadata": {},
   "source": [
    "$$s = \\frac{(4.81 - 4.619)^2 + (4.247 - 4.619)^2 + (4.855 - 4.619)^2 + (4.974 - 4.619)^2 + (5.332 - 4.619)^2 + (4.644 - 4.619)^2 + (5.365 - 4.619)^2 + (4.54 - 4.619)^2 + (3.608 - 4.619)^2 + (4.119 - 4.619)^2 + (4.315 - 4.619)^2} {11}$$"
   ]
  },
  {
   "cell_type": "markdown",
   "metadata": {},
   "source": [
    "Essa seria a forma de calcularmos\n",
    "no papel, porem vamos criar uma \n",
    "classe para realizar esses calculos\n",
    "\n"
   ]
  },
  {
   "cell_type": "code",
   "execution_count": null,
   "metadata": {
    "collapsed": true
   },
   "outputs": [],
   "source": [
    "media = numpy.mean(data)\n",
    "n = len(data)\n",
    "for x in data:\n",
    "    diferencas = x - media\n",
    "    variancia = numpy.sum(diferencas * diferencas) / (n - 1)\n",
    "    desvio_padrao = numpy.sqrt(variancia)\n",
    " \n"
   ]
  }
 ],
 "metadata": {
  "kernelspec": {
   "display_name": "Python 3",
   "language": "python",
   "name": "python3"
  },
  "language_info": {
   "codemirror_mode": {
    "name": "ipython",
    "version": 3
   },
   "file_extension": ".py",
   "mimetype": "text/x-python",
   "name": "python",
   "nbconvert_exporter": "python",
   "pygments_lexer": "ipython3",
   "version": "3.6.8"
  }
 },
 "nbformat": 4,
 "nbformat_minor": 2
}
