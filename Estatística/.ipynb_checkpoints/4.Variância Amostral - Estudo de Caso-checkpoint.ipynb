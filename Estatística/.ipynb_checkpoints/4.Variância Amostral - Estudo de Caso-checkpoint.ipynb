{
 "cells": [
  {
   "cell_type": "markdown",
   "metadata": {},
   "source": [
    "Primeiro passo: Para estudarmos a variância temos que ter dados de tipo quantitativo."
   ]
  },
  {
   "cell_type": "markdown",
   "metadata": {},
   "source": [
    "Vamos pensar na seguinte distribuição \n",
    "de dados\n"
   ]
  },
  {
   "cell_type": "markdown",
   "metadata": {},
   "source": [
    "A dor crônica é uma doença que envolve\n",
    "diversos neurotransmissores entre eles\n",
    "existe um que se chama BDNF(Fator \n",
    "Neurotrófico Derivado do Cérebro),\n",
    "ele é responsável pelo crescimento e \n",
    "desenvolvimento do neurônio, no entanto quando ocorre uma disfunção do nervo ou uma lesão esse neurotransmissor é liberado em altas quantidades no sistema nervoso, causando aumento de sensibilidade ou utilizando termos mais técnicos podemos descrever como hiperalgesia persistente. Outro neurotransmissor importante e o NGF (Fator de Crescimento Nervoso). Agora vamos ver \n",
    "dados reais de pacientes com dor crônica, que foram retirados de um dos meus projetos.\n",
    "\n",
    "Nesse projeto foi realizada a análise \n",
    "de PCR-RT de varios genes, no entanto vamos comparar os dados de BDNF e NGF .\n",
    "\n",
    "\n",
    "\n",
    "\n",
    "\n",
    "                           "
   ]
  },
  {
   "cell_type": "code",
   "execution_count": 7,
   "metadata": {},
   "outputs": [
    {
     "data": {
      "text/html": [
       "<div>\n",
       "<style>\n",
       "    .dataframe thead tr:only-child th {\n",
       "        text-align: right;\n",
       "    }\n",
       "\n",
       "    .dataframe thead th {\n",
       "        text-align: left;\n",
       "    }\n",
       "\n",
       "    .dataframe tbody tr th {\n",
       "        vertical-align: top;\n",
       "    }\n",
       "</style>\n",
       "<table border=\"1\" class=\"dataframe\">\n",
       "  <thead>\n",
       "    <tr style=\"text-align: right;\">\n",
       "      <th></th>\n",
       "      <th>Control</th>\n",
       "      <th>BDNF</th>\n",
       "      <th>NGF</th>\n",
       "    </tr>\n",
       "  </thead>\n",
       "  <tbody>\n",
       "    <tr>\n",
       "      <th>0</th>\n",
       "      <td>0.354</td>\n",
       "      <td>4.810</td>\n",
       "      <td>3.251</td>\n",
       "    </tr>\n",
       "    <tr>\n",
       "      <th>1</th>\n",
       "      <td>0.245</td>\n",
       "      <td>4.247</td>\n",
       "      <td>0.501</td>\n",
       "    </tr>\n",
       "    <tr>\n",
       "      <th>2</th>\n",
       "      <td>0.209</td>\n",
       "      <td>4.855</td>\n",
       "      <td>1.591</td>\n",
       "    </tr>\n",
       "    <tr>\n",
       "      <th>3</th>\n",
       "      <td>0.257</td>\n",
       "      <td>4.974</td>\n",
       "      <td>0.528</td>\n",
       "    </tr>\n",
       "    <tr>\n",
       "      <th>4</th>\n",
       "      <td>0.258</td>\n",
       "      <td>5.332</td>\n",
       "      <td>2.949</td>\n",
       "    </tr>\n",
       "    <tr>\n",
       "      <th>5</th>\n",
       "      <td>0.386</td>\n",
       "      <td>4.644</td>\n",
       "      <td>20.687</td>\n",
       "    </tr>\n",
       "    <tr>\n",
       "      <th>6</th>\n",
       "      <td>0.244</td>\n",
       "      <td>5.365</td>\n",
       "      <td>0.830</td>\n",
       "    </tr>\n",
       "    <tr>\n",
       "      <th>7</th>\n",
       "      <td>0.272</td>\n",
       "      <td>4.540</td>\n",
       "      <td>0.880</td>\n",
       "    </tr>\n",
       "    <tr>\n",
       "      <th>8</th>\n",
       "      <td>0.396</td>\n",
       "      <td>3.608</td>\n",
       "      <td>1.906</td>\n",
       "    </tr>\n",
       "    <tr>\n",
       "      <th>9</th>\n",
       "      <td>0.215</td>\n",
       "      <td>4.119</td>\n",
       "      <td>13.865</td>\n",
       "    </tr>\n",
       "    <tr>\n",
       "      <th>10</th>\n",
       "      <td>0.217</td>\n",
       "      <td>4.315</td>\n",
       "      <td>3.819</td>\n",
       "    </tr>\n",
       "  </tbody>\n",
       "</table>\n",
       "</div>"
      ],
      "text/plain": [
       "    Control   BDNF     NGF\n",
       "0     0.354  4.810   3.251\n",
       "1     0.245  4.247   0.501\n",
       "2     0.209  4.855   1.591\n",
       "3     0.257  4.974   0.528\n",
       "4     0.258  5.332   2.949\n",
       "5     0.386  4.644  20.687\n",
       "6     0.244  5.365   0.830\n",
       "7     0.272  4.540   0.880\n",
       "8     0.396  3.608   1.906\n",
       "9     0.215  4.119  13.865\n",
       "10    0.217  4.315   3.819"
      ]
     },
     "execution_count": 7,
     "metadata": {},
     "output_type": "execute_result"
    }
   ],
   "source": [
    "import pandas as pd \n",
    "data = pd.read_csv(\"PCR-RT.csv\") \n",
    "data.head(11)"
   ]
  },
  {
   "cell_type": "code",
   "execution_count": 12,
   "metadata": {},
   "outputs": [
    {
     "data": {
      "text/plain": [
       "Control    0.277545\n",
       "BDNF       4.619000\n",
       "NGF        4.618818\n",
       "dtype: float64"
      ]
     },
     "execution_count": 12,
     "metadata": {},
     "output_type": "execute_result"
    }
   ],
   "source": [
    "data.mean()"
   ]
  },
  {
   "cell_type": "markdown",
   "metadata": {},
   "source": [
    "Quando observamos a média de ambos os neurotransmissores podemos descrever que os valores das médias são praticamente iguais, então a primeira pergunta eh eu posso inferir que só pela média, que a expressão de BDNF eh igual a de NGF nos pacientes coletados ?"
   ]
  },
  {
   "cell_type": "markdown",
   "metadata": {},
   "source": [
    "Para realizar esse tipo de afirmação\n",
    "temos que observar a distribuição dos\n",
    "dados.\n"
   ]
  },
  {
   "cell_type": "code",
   "execution_count": 16,
   "metadata": {},
   "outputs": [
    {
     "data": {
      "text/html": [
       "<div>\n",
       "<style>\n",
       "    .dataframe thead tr:only-child th {\n",
       "        text-align: right;\n",
       "    }\n",
       "\n",
       "    .dataframe thead th {\n",
       "        text-align: left;\n",
       "    }\n",
       "\n",
       "    .dataframe tbody tr th {\n",
       "        vertical-align: top;\n",
       "    }\n",
       "</style>\n",
       "<table border=\"1\" class=\"dataframe\">\n",
       "  <thead>\n",
       "    <tr style=\"text-align: right;\">\n",
       "      <th></th>\n",
       "      <th>Control</th>\n",
       "      <th>BDNF</th>\n",
       "      <th>NGF</th>\n",
       "    </tr>\n",
       "  </thead>\n",
       "  <tbody>\n",
       "    <tr>\n",
       "      <th>0</th>\n",
       "      <td>0.354</td>\n",
       "      <td>4.810</td>\n",
       "      <td>3.251</td>\n",
       "    </tr>\n",
       "    <tr>\n",
       "      <th>1</th>\n",
       "      <td>0.245</td>\n",
       "      <td>4.247</td>\n",
       "      <td>0.501</td>\n",
       "    </tr>\n",
       "    <tr>\n",
       "      <th>2</th>\n",
       "      <td>0.209</td>\n",
       "      <td>4.855</td>\n",
       "      <td>1.591</td>\n",
       "    </tr>\n",
       "    <tr>\n",
       "      <th>3</th>\n",
       "      <td>0.257</td>\n",
       "      <td>4.974</td>\n",
       "      <td>0.528</td>\n",
       "    </tr>\n",
       "    <tr>\n",
       "      <th>4</th>\n",
       "      <td>0.258</td>\n",
       "      <td>5.332</td>\n",
       "      <td>2.949</td>\n",
       "    </tr>\n",
       "    <tr>\n",
       "      <th>5</th>\n",
       "      <td>0.386</td>\n",
       "      <td>4.644</td>\n",
       "      <td>20.687</td>\n",
       "    </tr>\n",
       "    <tr>\n",
       "      <th>6</th>\n",
       "      <td>0.244</td>\n",
       "      <td>5.365</td>\n",
       "      <td>0.830</td>\n",
       "    </tr>\n",
       "    <tr>\n",
       "      <th>7</th>\n",
       "      <td>0.272</td>\n",
       "      <td>4.540</td>\n",
       "      <td>0.880</td>\n",
       "    </tr>\n",
       "    <tr>\n",
       "      <th>8</th>\n",
       "      <td>0.396</td>\n",
       "      <td>3.608</td>\n",
       "      <td>1.906</td>\n",
       "    </tr>\n",
       "    <tr>\n",
       "      <th>9</th>\n",
       "      <td>0.215</td>\n",
       "      <td>4.119</td>\n",
       "      <td>13.865</td>\n",
       "    </tr>\n",
       "    <tr>\n",
       "      <th>10</th>\n",
       "      <td>0.217</td>\n",
       "      <td>4.315</td>\n",
       "      <td>3.819</td>\n",
       "    </tr>\n",
       "  </tbody>\n",
       "</table>\n",
       "</div>"
      ],
      "text/plain": [
       "    Control   BDNF     NGF\n",
       "0     0.354  4.810   3.251\n",
       "1     0.245  4.247   0.501\n",
       "2     0.209  4.855   1.591\n",
       "3     0.257  4.974   0.528\n",
       "4     0.258  5.332   2.949\n",
       "5     0.386  4.644  20.687\n",
       "6     0.244  5.365   0.830\n",
       "7     0.272  4.540   0.880\n",
       "8     0.396  3.608   1.906\n",
       "9     0.215  4.119  13.865\n",
       "10    0.217  4.315   3.819"
      ]
     },
     "execution_count": 16,
     "metadata": {},
     "output_type": "execute_result"
    }
   ],
   "source": [
    "data.head(11)\n"
   ]
  },
  {
   "cell_type": "code",
   "execution_count": 17,
   "metadata": {},
   "outputs": [
    {
     "name": "stdout",
     "output_type": "stream",
     "text": [
      "1.7570000000000001\n",
      "20.186\n"
     ]
    }
   ],
   "source": [
    "'''\n",
    "Vamos observar a amplitude:\n",
    "Como vimos anteriormente a amplitude \n",
    "e a subtracao do maior e menor numero. Olhando a tabela acima temos:\n",
    "'''\n",
    "\n",
    "BDNF = 5.365 - 3.608 \n",
    "print(BDNF) \n",
    "\n",
    "NGF = 20.687 - 0.501\n",
    "print(NGF)"
   ]
  },
  {
   "cell_type": "markdown",
   "metadata": {},
   "source": [
    "Apesar da amplitude não medir o valor\n",
    "de todos os dados, podemos observar\n",
    "que a amplitude dos dados de NGF\n",
    "é de 20X e a amplitude de BDNF é\n",
    "quase 2X, sendo assim temos indícios\n",
    "de que apesar das médias serem \n",
    "praticamente iguais, elas podem\n",
    "não apresentar a mesma distribuição\n",
    "e isso é extremamente importante\n",
    "para que possamos concluir a\n",
    "participação desses neurotransmissores no processo da doença.\n"
   ]
  },
  {
   "cell_type": "markdown",
   "metadata": {},
   "source": [
    "##### A variância amostral mede a dispersão em torno da média\n",
    "Como a amplitude não me descreve\n",
    "o comportamento de todos os dados\n",
    "então , vamos olhar a variância:\n"
   ]
  },
  {
   "cell_type": "markdown",
   "metadata": {},
   "source": [
    "$$s = \\frac{(4.81 - 4.619)^2 + (4.247 - 4.619)^2 + (4.855 - 4.619)^2 + (4.974 - 4.619)^2 + (5.332 - 4.619)^2 + (4.644 - 4.619)^2 + (5.365 - 4.619)^2 + (4.54 - 4.619)^2 + (3.608 - 4.619)^2 + (4.119 - 4.619)^2 + (4.315 - 4.619)^2} {10}$$"
   ]
  },
  {
   "cell_type": "markdown",
   "metadata": {},
   "source": [
    "Essa seria a forma de calcularmos\n",
    "no papel, porém vamos realizar esses cálculos com a\n",
    "função var() do python.\n",
    "\n",
    "\n",
    "\n",
    "\n",
    "\n"
   ]
  },
  {
   "cell_type": "code",
   "execution_count": 20,
   "metadata": {},
   "outputs": [
    {
     "data": {
      "text/plain": [
       "0.2792874000000002"
      ]
     },
     "execution_count": 20,
     "metadata": {},
     "output_type": "execute_result"
    }
   ],
   "source": [
    "# variancia amostral\n",
    "data['BDNF'].var()\n",
    " \n"
   ]
  },
  {
   "cell_type": "code",
   "execution_count": 21,
   "metadata": {},
   "outputs": [
    {
     "data": {
      "text/plain": [
       "42.752946363636354"
      ]
     },
     "execution_count": 21,
     "metadata": {},
     "output_type": "execute_result"
    }
   ],
   "source": [
    "# variancia amostral\n",
    "data['NGF'].var()"
   ]
  },
  {
   "cell_type": "markdown",
   "metadata": {},
   "source": [
    "A variância é o segundo momento de uma distribuição de probabilidade e fornece o quanto a variável se desvia em relação\n",
    "a média\n",
    "\n",
    "\n"
   ]
  },
  {
   "cell_type": "code",
   "execution_count": 22,
   "metadata": {},
   "outputs": [
    {
     "data": {
      "text/plain": [
       "0.5284764895432911"
      ]
     },
     "execution_count": 22,
     "metadata": {},
     "output_type": "execute_result"
    }
   ],
   "source": [
    "'''\n",
    "    Depois que calculamos a variancia\n",
    "    para chegarmos no valor do desvio\n",
    "    padrao temos que realizar a raiz \n",
    "    quadrada de s.\n",
    "'''\n",
    "data['BDNF'].std()"
   ]
  },
  {
   "cell_type": "code",
   "execution_count": 23,
   "metadata": {},
   "outputs": [
    {
     "data": {
      "text/plain": [
       "6.538573725487566"
      ]
     },
     "execution_count": 23,
     "metadata": {},
     "output_type": "execute_result"
    }
   ],
   "source": [
    "data['NGF'].std()"
   ]
  },
  {
   "cell_type": "markdown",
   "metadata": {},
   "source": [
    "Esses dados indicam em média\n",
    "qual é a distância que cada termo\n",
    "tem da média daquela distribuição.\n",
    "\n"
   ]
  },
  {
   "cell_type": "markdown",
   "metadata": {},
   "source": [
    "Então o que podemos concluir com\n",
    "relação à análise desses neurotransmissores\n",
    "\n",
    "1. O Neurotransmissor BDNF  apresenta uma distribuição nos pacientes com menor variação e \n",
    "desvio padrão, demonstrando assim\n",
    "que esse neurotransmissor tem um papel crucial para determinar \n",
    "hiperalgesia em pacientes com dor\n",
    "crônica, pois a distribuição se \n",
    "apresenta mais homogênea entre \n",
    "os pacientes.\n",
    "2. O NGF está presente no desenvolvimento de hiperalgesia em\n",
    "pacientes com dor crônica, no entanto essa distribuição apresenta\n",
    "uma variação e distribuição alta, sendo assim a presença desse neurotransmissor pode variar entre \n",
    "os pacientes, entao novos estudos devem ser realizados para\n",
    "identificar se outros receptores ou\n",
    "neurotransmissores possam estar estimulando a expressão de NGF, em \n",
    "diferentes níveis de hiperalgesia\n",
    "\n"
   ]
  },
  {
   "cell_type": "markdown",
   "metadata": {},
   "source": [
    "O intuito desse estudo é demonstrar\n",
    "que essas funções matemáticas \n",
    "nos resultam números, no entanto \n",
    "cabe a cada ser humano, realizar\n",
    "a interpretação adequada em seus\n",
    "estudos. Desta forma, precisamos\n",
    "entender o comportamento da nossa\n",
    "amostra estabelecer objetivos claros\n",
    "e utilizar de forma sequencial e \n",
    "explicativa cada passo, pois assim \n",
    "iremos realmente realizar inferências\n",
    "adequadas. \n",
    "\n",
    "Se pensarmos no caso descrito acima, \n",
    "muitas pessoas poderiam simplesmente\n",
    "determinar somente pela média que a \n",
    "expressão de BDNF e NGF são iguais e\n",
    "assim poderiam concluir de forma \n",
    "errônea que ambos neurotransmissores\n",
    "são presentes em pacientes com dor\n",
    "crônica, no entanto vimos que isso \n",
    "não é real, e que uma estatística \n",
    "descritiva adequada, nos mostra que\n",
    "o NGF pode estar sendo influenciado\n",
    "por outros mecanismos intracelulares\n",
    "e que talvez cada paciente tenha um \n",
    "nível de hiperalgesia diferente.\n",
    "Nesse contexto, também podemos sugerir\n",
    "que independentemente dos níveis de \n",
    "hiperalgesia o BDNF sempre estará \n",
    "presente nos pacientes.\n",
    "\n",
    "Essa é uma das análises que podemos \n",
    "realizar com esses dados. Então ainda \n",
    "voltaremos nesse exemplo depois de \n",
    "estudarmos inferência estatística.\n",
    "\n",
    "=). Bons Estudos\n",
    "\n"
   ]
  }
 ],
 "metadata": {
  "kernelspec": {
   "display_name": "Python 3",
   "language": "python",
   "name": "python3"
  },
  "language_info": {
   "codemirror_mode": {
    "name": "ipython",
    "version": 3
   },
   "file_extension": ".py",
   "mimetype": "text/x-python",
   "name": "python",
   "nbconvert_exporter": "python",
   "pygments_lexer": "ipython3",
   "version": "3.6.8"
  }
 },
 "nbformat": 4,
 "nbformat_minor": 2
}
