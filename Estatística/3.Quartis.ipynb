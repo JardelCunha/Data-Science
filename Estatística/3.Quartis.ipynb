{
 "cells": [
  {
   "cell_type": "markdown",
   "metadata": {
    "collapsed": true
   },
   "source": [
    "# Quartis"
   ]
  },
  {
   "cell_type": "markdown",
   "metadata": {},
   "source": [
    "Os quartis são medidas que permitem dividir a distribuição dos dados em quatro partes iguais quanto ao número de elementos de cada uma. Dado um conjunto ordenado de valores, definimos então:\n",
    "\n",
    "\n",
    "***Primeiro quartil (Q1)***: é o valor que divide o conjunto em duas partes tal que um quarto (ou 25%) dos valores é menor ou igual a Q1 e três quartos (ou 75%) são maiores ou igual a Q1\n",
    ".\n",
    "\n",
    "***Segundo quartil (Q2)***: é igual à mediana. Metade dos valores é menor ou igual a Q2\n",
    ",enquanto outra metade é maior ou igual a Q2.\n",
    "\n",
    "***Terceiro quartil (Q3)***: é o valor que divide o conjunto em duas partes tal que três quartos (ou 75%) dos valores são menores ou iguais a Q3 e um quarto (ou 25%) é maior ou igual."
   ]
  },
  {
   "cell_type": "code",
   "execution_count": 1,
   "metadata": {},
   "outputs": [
    {
     "data": {
      "image/png": "[encoded data removed]",
      "text/plain": [
       "<Figure size 432x288 with 1 Axes>"
      ]
     },
     "metadata": {},
     "output_type": "display_data"
    }
   ],
   "source": [
    "% matplotlib inline\n",
    "import seaborn as sns\n",
    "sns.set(style=\"whitegrid\")\n",
    "tips = sns.load_dataset(\"tips\")\n",
    "ax = sns.boxplot(x=\"day\", y=\"total_bill\", data=tips)"
   ]
  },
  {
   "cell_type": "markdown",
   "metadata": {},
   "source": [
    "Na imagem acima podemos observar que: Olhando de baixo para cima a primeira barra corresponde ao Q1, o traço no meio do bloco é igual à mediana (Q2) e a terceira barra é o Q3. Acima de Q3, podemos observar alguns pontos dispersos, eles sao descritos como os outliers."
   ]
  },
  {
   "cell_type": "markdown",
   "metadata": {
    "collapsed": true
   },
   "source": [
    "Como determinar se um ponto e outliers?\n",
    "\n",
    "Vamos pensar em um conjunto de dados no qual temos um Q1 = 354,4 e um Q3 = 467,8\n",
    "(usando o o método de interpolação com base N-1, iremos aprender mais para frente), e o seu IRQ = Q1 - Q2 = 6\n",
    "\n",
    "Podemos determinar o limite superior:\n",
    "\n",
    "$$ LS = \\bar{X}+ 1.5 * IRQ$$\n",
    "\n",
    "E o limite inferior:\n",
    "\n",
    "$$ LI = \\bar{X}- 1.5 * IRQ$$"
   ]
  },
  {
   "cell_type": "markdown",
   "metadata": {},
   "source": [
    "Sendo assim:\n",
    "    \n",
    "LS = 476,8 e LI = 345,4\n",
    "    \n",
    "Podemos afirmar com um alto grau de certeza de que esses pontos são outliers para baixo e para cima do seu conjunto de dados."
   ]
  }
 ],
 "metadata": {
  "kernelspec": {
   "display_name": "Python 3",
   "language": "python",
   "name": "python3"
  },
  "language_info": {
   "codemirror_mode": {
    "name": "ipython",
    "version": 3
   },
   "file_extension": ".py",
   "mimetype": "text/x-python",
   "name": "python",
   "nbconvert_exporter": "python",
   "pygments_lexer": "ipython3",
   "version": "3.6.8"
  }
 },
 "nbformat": 4,
 "nbformat_minor": 2
}
